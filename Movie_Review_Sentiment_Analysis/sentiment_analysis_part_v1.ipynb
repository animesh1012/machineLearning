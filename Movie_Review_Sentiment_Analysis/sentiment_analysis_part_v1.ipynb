{
 "cells": [
  {
   "cell_type": "markdown",
   "id": "89db70f8-c3f2-4a92-a8c9-a36d46a7adbe",
   "metadata": {},
   "source": [
    "## Importing Libraries"
   ]
  },
  {
   "cell_type": "code",
   "execution_count": null,
   "id": "6a0bc22a",
   "metadata": {},
   "outputs": [],
   "source": [
    "##Tensorflow Installation Guide using conda\n",
    "!conda create --name tensorflow_env python=3.8\n",
    "#Activating env\n",
    "!conda activate tensorflow_env\n",
    "#Install Tensorflow in that env\n",
    "!conda install tensorflow-gpu"
   ]
  },
  {
   "cell_type": "code",
   "execution_count": null,
   "id": "8dbd12d3",
   "metadata": {},
   "outputs": [],
   "source": [
    "!pip install nltk\n",
    "!pip install bs4"
   ]
  },
  {
   "cell_type": "code",
   "execution_count": 1,
   "id": "83335760-3053-4fe6-93db-c217e305587b",
   "metadata": {},
   "outputs": [],
   "source": [
    "import nltk\n",
    "import pandas as pd\n",
    "import numpy as np\n",
    "import tensorflow as tf\n",
    "import string\n",
    "from nltk.stem import PorterStemmer, WordNetLemmatizer\n",
    "from bs4 import BeautifulSoup\n",
    "from nltk.tokenize import word_tokenize"
   ]
  },
  {
   "cell_type": "code",
   "execution_count": null,
   "id": "6604ab8f-e047-4e2f-877f-99b631dd1d7e",
   "metadata": {},
   "outputs": [
    {
     "name": "stderr",
     "output_type": "stream",
     "text": [
      "[nltk_data] Downloading package stopwords to\n",
      "[nltk_data]     /Users/animesh/nltk_data...\n",
      "[nltk_data]   Unzipping corpora/stopwords.zip.\n",
      "[nltk_data] Downloading package wordnet to /Users/animesh/nltk_data...\n",
      "[nltk_data]   Package wordnet is already up-to-date!\n"
     ]
    },
    {
     "data": {
      "text/plain": [
       "True"
      ]
     },
     "execution_count": 2,
     "metadata": {},
     "output_type": "execute_result"
    }
   ],
   "source": [
    "##Downloading nltk packages\n",
    "nltk.download('stopwords')\n",
    "nltk.download('wordnet')"
   ]
  },
  {
   "cell_type": "markdown",
   "id": "51c14edb-3b8d-400f-a3e1-ed80fc526cd4",
   "metadata": {},
   "source": [
    "## Loading Dataset"
   ]
  },
  {
   "cell_type": "code",
   "execution_count": 4,
   "id": "78d1b27b-5b75-4fc4-aa1a-924c7da4c068",
   "metadata": {},
   "outputs": [
    {
     "data": {
      "text/html": [
       "<div>\n",
       "<style scoped>\n",
       "    .dataframe tbody tr th:only-of-type {\n",
       "        vertical-align: middle;\n",
       "    }\n",
       "\n",
       "    .dataframe tbody tr th {\n",
       "        vertical-align: top;\n",
       "    }\n",
       "\n",
       "    .dataframe thead th {\n",
       "        text-align: right;\n",
       "    }\n",
       "</style>\n",
       "<table border=\"1\" class=\"dataframe\">\n",
       "  <thead>\n",
       "    <tr style=\"text-align: right;\">\n",
       "      <th></th>\n",
       "      <th>review</th>\n",
       "      <th>sentiment</th>\n",
       "    </tr>\n",
       "  </thead>\n",
       "  <tbody>\n",
       "    <tr>\n",
       "      <th>0</th>\n",
       "      <td>One of the other reviewers has mentioned that ...</td>\n",
       "      <td>positive</td>\n",
       "    </tr>\n",
       "    <tr>\n",
       "      <th>1</th>\n",
       "      <td>A wonderful little production. &lt;br /&gt;&lt;br /&gt;The...</td>\n",
       "      <td>positive</td>\n",
       "    </tr>\n",
       "    <tr>\n",
       "      <th>2</th>\n",
       "      <td>I thought this was a wonderful way to spend ti...</td>\n",
       "      <td>positive</td>\n",
       "    </tr>\n",
       "    <tr>\n",
       "      <th>3</th>\n",
       "      <td>Basically there's a family where a little boy ...</td>\n",
       "      <td>negative</td>\n",
       "    </tr>\n",
       "    <tr>\n",
       "      <th>4</th>\n",
       "      <td>Petter Mattei's \"Love in the Time of Money\" is...</td>\n",
       "      <td>positive</td>\n",
       "    </tr>\n",
       "  </tbody>\n",
       "</table>\n",
       "</div>"
      ],
      "text/plain": [
       "                                              review sentiment\n",
       "0  One of the other reviewers has mentioned that ...  positive\n",
       "1  A wonderful little production. <br /><br />The...  positive\n",
       "2  I thought this was a wonderful way to spend ti...  positive\n",
       "3  Basically there's a family where a little boy ...  negative\n",
       "4  Petter Mattei's \"Love in the Time of Money\" is...  positive"
      ]
     },
     "execution_count": 4,
     "metadata": {},
     "output_type": "execute_result"
    }
   ],
   "source": [
    "data = pd.read_csv('IMDB Dataset.csv')\n",
    "data.head()"
   ]
  },
  {
   "cell_type": "code",
   "execution_count": 5,
   "id": "30e8cf2a-673b-48fe-9bb8-761ac492a2fd",
   "metadata": {},
   "outputs": [],
   "source": [
    "df = data.dropna()"
   ]
  },
  {
   "cell_type": "code",
   "execution_count": 6,
   "id": "3de11b6b-efff-42ad-a000-d5b2f936e42a",
   "metadata": {},
   "outputs": [
    {
     "data": {
      "text/plain": [
       "(50000, 2)"
      ]
     },
     "execution_count": 6,
     "metadata": {},
     "output_type": "execute_result"
    }
   ],
   "source": [
    "data.shape"
   ]
  },
  {
   "cell_type": "code",
   "execution_count": 7,
   "id": "48a53fcf-cda4-4ec7-a66c-ff8a2a3ab0f1",
   "metadata": {},
   "outputs": [
    {
     "data": {
      "text/plain": [
       "(50000, 2)"
      ]
     },
     "execution_count": 7,
     "metadata": {},
     "output_type": "execute_result"
    }
   ],
   "source": [
    "df.shape"
   ]
  },
  {
   "cell_type": "code",
   "execution_count": 8,
   "id": "259f5c3f-2694-4b10-9660-8d9c68cfe8f9",
   "metadata": {},
   "outputs": [
    {
     "data": {
      "text/html": [
       "<div>\n",
       "<style scoped>\n",
       "    .dataframe tbody tr th:only-of-type {\n",
       "        vertical-align: middle;\n",
       "    }\n",
       "\n",
       "    .dataframe tbody tr th {\n",
       "        vertical-align: top;\n",
       "    }\n",
       "\n",
       "    .dataframe thead th {\n",
       "        text-align: right;\n",
       "    }\n",
       "</style>\n",
       "<table border=\"1\" class=\"dataframe\">\n",
       "  <thead>\n",
       "    <tr style=\"text-align: right;\">\n",
       "      <th></th>\n",
       "      <th>review</th>\n",
       "      <th>sentiment</th>\n",
       "    </tr>\n",
       "  </thead>\n",
       "  <tbody>\n",
       "    <tr>\n",
       "      <th>0</th>\n",
       "      <td>One of the other reviewers has mentioned that ...</td>\n",
       "      <td>positive</td>\n",
       "    </tr>\n",
       "    <tr>\n",
       "      <th>1</th>\n",
       "      <td>A wonderful little production. &lt;br /&gt;&lt;br /&gt;The...</td>\n",
       "      <td>positive</td>\n",
       "    </tr>\n",
       "    <tr>\n",
       "      <th>2</th>\n",
       "      <td>I thought this was a wonderful way to spend ti...</td>\n",
       "      <td>positive</td>\n",
       "    </tr>\n",
       "    <tr>\n",
       "      <th>3</th>\n",
       "      <td>Basically there's a family where a little boy ...</td>\n",
       "      <td>negative</td>\n",
       "    </tr>\n",
       "    <tr>\n",
       "      <th>4</th>\n",
       "      <td>Petter Mattei's \"Love in the Time of Money\" is...</td>\n",
       "      <td>positive</td>\n",
       "    </tr>\n",
       "    <tr>\n",
       "      <th>...</th>\n",
       "      <td>...</td>\n",
       "      <td>...</td>\n",
       "    </tr>\n",
       "    <tr>\n",
       "      <th>49995</th>\n",
       "      <td>I thought this movie did a down right good job...</td>\n",
       "      <td>positive</td>\n",
       "    </tr>\n",
       "    <tr>\n",
       "      <th>49996</th>\n",
       "      <td>Bad plot, bad dialogue, bad acting, idiotic di...</td>\n",
       "      <td>negative</td>\n",
       "    </tr>\n",
       "    <tr>\n",
       "      <th>49997</th>\n",
       "      <td>I am a Catholic taught in parochial elementary...</td>\n",
       "      <td>negative</td>\n",
       "    </tr>\n",
       "    <tr>\n",
       "      <th>49998</th>\n",
       "      <td>I'm going to have to disagree with the previou...</td>\n",
       "      <td>negative</td>\n",
       "    </tr>\n",
       "    <tr>\n",
       "      <th>49999</th>\n",
       "      <td>No one expects the Star Trek movies to be high...</td>\n",
       "      <td>negative</td>\n",
       "    </tr>\n",
       "  </tbody>\n",
       "</table>\n",
       "<p>50000 rows × 2 columns</p>\n",
       "</div>"
      ],
      "text/plain": [
       "                                                  review sentiment\n",
       "0      One of the other reviewers has mentioned that ...  positive\n",
       "1      A wonderful little production. <br /><br />The...  positive\n",
       "2      I thought this was a wonderful way to spend ti...  positive\n",
       "3      Basically there's a family where a little boy ...  negative\n",
       "4      Petter Mattei's \"Love in the Time of Money\" is...  positive\n",
       "...                                                  ...       ...\n",
       "49995  I thought this movie did a down right good job...  positive\n",
       "49996  Bad plot, bad dialogue, bad acting, idiotic di...  negative\n",
       "49997  I am a Catholic taught in parochial elementary...  negative\n",
       "49998  I'm going to have to disagree with the previou...  negative\n",
       "49999  No one expects the Star Trek movies to be high...  negative\n",
       "\n",
       "[50000 rows x 2 columns]"
      ]
     },
     "execution_count": 8,
     "metadata": {},
     "output_type": "execute_result"
    }
   ],
   "source": [
    "df"
   ]
  },
  {
   "cell_type": "markdown",
   "id": "300468f1",
   "metadata": {},
   "source": [
    "## Text Preprocessing"
   ]
  },
  {
   "cell_type": "code",
   "execution_count": null,
   "id": "e198c95b-1b13-4c0d-b253-2c3210a80f67",
   "metadata": {},
   "outputs": [],
   "source": [
    "punctuation = string.punctuation\n",
    "stopwords = nltk.corpus.stopwords.words('english')\n",
    "lm = WordNetLemmatizer()"
   ]
  },
  {
   "cell_type": "code",
   "execution_count": 10,
   "id": "e0cb0e71-9363-4d8b-bf72-d70de686ac13",
   "metadata": {},
   "outputs": [],
   "source": [
    "def clean_text(text):\n",
    "    text = BeautifulSoup(text, \"html.parser\").get_text()\n",
    "    text = \"\".join([char.lower() for char in text if char not in punctuation])\n",
    "    tokens = word_tokenize(text)\n",
    "    text = \" \".join([lm.lemmatize(char) for char in tokens if char not in stopwords])\n",
    "    return text"
   ]
  },
  {
   "cell_type": "code",
   "execution_count": 11,
   "id": "cda4edbf-c382-42f6-88d0-8e30b70ede49",
   "metadata": {},
   "outputs": [],
   "source": [
    "X = df['review'].apply(lambda x: clean_text(x))"
   ]
  },
  {
   "cell_type": "code",
   "execution_count": 12,
   "id": "4b98b507-45fa-447a-a67c-141b9aa43fc8",
   "metadata": {},
   "outputs": [],
   "source": [
    "Y = df = df['sentiment'].apply(lambda x: 1 if x == 'positive' else 0)"
   ]
  },
  {
   "cell_type": "code",
   "execution_count": 13,
   "id": "daf6c64e-42a0-491d-aaa5-a8209731cc36",
   "metadata": {},
   "outputs": [
    {
     "data": {
      "text/plain": [
       "0        1\n",
       "1        1\n",
       "2        1\n",
       "3        0\n",
       "4        1\n",
       "        ..\n",
       "49995    1\n",
       "49996    0\n",
       "49997    0\n",
       "49998    0\n",
       "49999    0\n",
       "Name: sentiment, Length: 50000, dtype: int64"
      ]
     },
     "execution_count": 13,
     "metadata": {},
     "output_type": "execute_result"
    }
   ],
   "source": [
    "Y"
   ]
  },
  {
   "cell_type": "code",
   "execution_count": 14,
   "id": "14fbb4af-dbf7-4e38-a419-8a74268662c0",
   "metadata": {},
   "outputs": [
    {
     "data": {
      "text/plain": [
       "119.84288"
      ]
     },
     "execution_count": 14,
     "metadata": {},
     "output_type": "execute_result"
    }
   ],
   "source": [
    "##Average num of words in text\n",
    "sum=0\n",
    "for i in X.to_list():\n",
    "    sum+=len(i.split(\" \"))\n",
    "avg = sum/len(X.to_list())\n",
    "avg\n"
   ]
  },
  {
   "cell_type": "code",
   "execution_count": 15,
   "id": "558103c0-4627-4e9f-9a46-3486d9f2dec6",
   "metadata": {},
   "outputs": [],
   "source": [
    "#Splitting dataset\n",
    "from sklearn.model_selection import train_test_split\n",
    "X_train,X_test,Y_train,Y_test = train_test_split(X,Y,test_size=0.25)"
   ]
  },
  {
   "cell_type": "code",
   "execution_count": 16,
   "id": "b54be394-f6a5-41b6-a3ae-12b855d202ea",
   "metadata": {},
   "outputs": [],
   "source": [
    "from tensorflow.keras.models import Sequential\n",
    "from tensorflow.keras.layers import Dense,LSTM,Embedding,TextVectorization, Dropout"
   ]
  },
  {
   "cell_type": "markdown",
   "id": "ff0f7648",
   "metadata": {},
   "source": [
    "## Text Vectorization"
   ]
  },
  {
   "cell_type": "code",
   "execution_count": 17,
   "id": "c5f8884e-648a-4ab3-9f28-8a9771aa1f6b",
   "metadata": {},
   "outputs": [
    {
     "name": "stderr",
     "output_type": "stream",
     "text": [
      "2025-07-01 22:59:45.077340: W tensorflow/core/common_runtime/gpu/gpu_device.cc:1960] Cannot dlopen some GPU libraries. Please make sure the missing libraries mentioned above are installed properly if you would like to use GPU. Follow the guide at https://www.tensorflow.org/install/gpu for how to download and setup the required libraries for your platform.\n",
      "Skipping registering GPU devices...\n"
     ]
    }
   ],
   "source": [
    "vocab_size = 20000\n",
    "max_len = 200\n",
    "vectorize_layer = TextVectorization(\n",
    " max_tokens=vocab_size,\n",
    " output_mode='int',\n",
    " output_sequence_length=max_len)"
   ]
  },
  {
   "cell_type": "code",
   "execution_count": 18,
   "id": "7e85b293-124a-48f5-96f7-6f57fb768932",
   "metadata": {},
   "outputs": [],
   "source": [
    "# build the vocabulary\n",
    "vectorize_layer.adapt(X_train)"
   ]
  },
  {
   "cell_type": "code",
   "execution_count": 19,
   "id": "c3d924ce",
   "metadata": {},
   "outputs": [
    {
     "data": {
      "text/plain": [
       "array(['', '[UNK]', 'movie', 'film', 'one', 'like', 'time', 'good',\n",
       "       'character', 'even', 'story', 'get', 'would', 'see', 'make',\n",
       "       'really', 'scene', 'much', 'well', 'people', 'great', 'bad',\n",
       "       'also', 'show', 'first', 'way', 'dont', 'thing', 'made', 'could',\n",
       "       'think', 'life', 'go', 'know', 'watch', 'many', 'love', 'seen',\n",
       "       'actor', 'two', 'plot', 'never', 'say', 'look', 'best', 'acting',\n",
       "       'little', 'end', 'year', 'ever'], dtype='<U20')"
      ]
     },
     "execution_count": 19,
     "metadata": {},
     "output_type": "execute_result"
    }
   ],
   "source": [
    "vocab = np.array(vectorize_layer.get_vocabulary())\n",
    "#First 50 vocabulary\n",
    "vocab[:50]"
   ]
  },
  {
   "cell_type": "code",
   "execution_count": 20,
   "id": "27889737-3431-44a2-94c0-859207ef5616",
   "metadata": {},
   "outputs": [],
   "source": [
    "x1 = vectorize_layer(X_train)"
   ]
  },
  {
   "cell_type": "code",
   "execution_count": 21,
   "id": "958a86c9",
   "metadata": {},
   "outputs": [
    {
     "data": {
      "text/plain": [
       "(37500,)"
      ]
     },
     "execution_count": 21,
     "metadata": {},
     "output_type": "execute_result"
    }
   ],
   "source": [
    "X_train.shape"
   ]
  },
  {
   "cell_type": "code",
   "execution_count": 22,
   "id": "58fd03cf-d3fa-4681-a0e7-922376040331",
   "metadata": {},
   "outputs": [
    {
     "data": {
      "text/plain": [
       "<tf.Tensor: shape=(37500, 200), dtype=int64, numpy=\n",
       "array([[   74,   238,  3810, ...,     0,     0,     0],\n",
       "       [  506,     5,     2, ...,     0,     0,     0],\n",
       "       [  518,   358,   259, ...,     0,     0,     0],\n",
       "       ...,\n",
       "       [  116, 17528,  2538, ...,  3158,   466,   225],\n",
       "       [  138,  1847,     2, ...,     0,     0,     0],\n",
       "       [19834,  3650,  5306, ...,     0,     0,     0]])>"
      ]
     },
     "execution_count": 22,
     "metadata": {},
     "output_type": "execute_result"
    }
   ],
   "source": [
    "x1"
   ]
  },
  {
   "cell_type": "code",
   "execution_count": 23,
   "id": "32c343db",
   "metadata": {},
   "outputs": [
    {
     "data": {
      "text/plain": [
       "array(['', '[UNK]', 'movie', ..., 'lid', 'lew', 'letterbox'], dtype='<U20')"
      ]
     },
     "execution_count": 23,
     "metadata": {},
     "output_type": "execute_result"
    }
   ],
   "source": [
    "vocab"
   ]
  },
  {
   "cell_type": "code",
   "execution_count": 24,
   "id": "422b2609",
   "metadata": {},
   "outputs": [
    {
     "data": {
      "text/plain": [
       "(array([1601]),)"
      ]
     },
     "execution_count": 24,
     "metadata": {},
     "output_type": "execute_result"
    }
   ],
   "source": [
    "##Search indices of word\n",
    "foleys = np.where(vocab == 'noir')\n",
    "foleys"
   ]
  },
  {
   "cell_type": "code",
   "execution_count": 25,
   "id": "4b7fc3d0",
   "metadata": {},
   "outputs": [
    {
     "data": {
      "text/plain": [
       "'ok 3 word cheesy cheesy cheesy redeeming feature movie dean cain cheeseball supremethe movie promise concept underground lab creates real live fire breathing dragon basically giving u jurassic park meet reign fire great possibility dont follow special effect decent even though know dragon cgi doesnt horribly look like cgi wouldnt lay blame dean cain although one producer id lay blame phillip roth director writer job make film unfortunately failed'"
      ]
     },
     "execution_count": 25,
     "metadata": {},
     "output_type": "execute_result"
    }
   ],
   "source": [
    "X_train.to_list()[2]"
   ]
  },
  {
   "cell_type": "code",
   "execution_count": 26,
   "id": "980626a5",
   "metadata": {},
   "outputs": [
    {
     "data": {
      "text/plain": [
       "<tf.Tensor: shape=(200,), dtype=int64, numpy=\n",
       "array([ 518,  358,  259,  794,  794,  794, 1565,  339,    2, 2115, 7425,\n",
       "          1,    1,    2, 1479,  893, 2429, 3366, 1935,   67,  325,  795,\n",
       "       6484, 2114,  583,  607,   78, 6405, 1100,  375, 4975,  795,   20,\n",
       "       2174,   26,  754,  204,  143,  439,    9,   74,   33, 2114, 1472,\n",
       "         68, 2053,   43,    5, 1472,  466, 2907, 1439, 2115, 7425,  180,\n",
       "          4,  570,  361, 2907, 1439, 6902, 5198,   63,  335,  179,   14,\n",
       "          3,  406, 1076,    0,    0,    0,    0,    0,    0,    0,    0,\n",
       "          0,    0,    0,    0,    0,    0,    0,    0,    0,    0,    0,\n",
       "          0,    0,    0,    0,    0,    0,    0,    0,    0,    0,    0,\n",
       "          0,    0,    0,    0,    0,    0,    0,    0,    0,    0,    0,\n",
       "          0,    0,    0,    0,    0,    0,    0,    0,    0,    0,    0,\n",
       "          0,    0,    0,    0,    0,    0,    0,    0,    0,    0,    0,\n",
       "          0,    0,    0,    0,    0,    0,    0,    0,    0,    0,    0,\n",
       "          0,    0,    0,    0,    0,    0,    0,    0,    0,    0,    0,\n",
       "          0,    0,    0,    0,    0,    0,    0,    0,    0,    0,    0,\n",
       "          0,    0,    0,    0,    0,    0,    0,    0,    0,    0,    0,\n",
       "          0,    0,    0,    0,    0,    0,    0,    0,    0,    0,    0,\n",
       "          0,    0,    0,    0,    0,    0,    0,    0,    0,    0,    0,\n",
       "          0,    0])>"
      ]
     },
     "execution_count": 26,
     "metadata": {},
     "output_type": "execute_result"
    }
   ],
   "source": [
    "x1[2,:]"
   ]
  },
  {
   "cell_type": "markdown",
   "id": "19cb61dd",
   "metadata": {},
   "source": [
    "## Building LSTM Model"
   ]
  },
  {
   "cell_type": "code",
   "execution_count": null,
   "id": "f3326055-2db6-4b64-b630-4f85b728eb06",
   "metadata": {},
   "outputs": [
    {
     "name": "stdout",
     "output_type": "stream",
     "text": [
      "Model: \"sequential\"\n",
      "_________________________________________________________________\n",
      " Layer (type)                Output Shape              Param #   \n",
      "=================================================================\n",
      " text_vectorization (TextVe  (None, 200)               0         \n",
      " ctorization)                                                    \n",
      "                                                                 \n",
      " embedding (Embedding)       (None, 200, 100)          2000000   \n",
      "                                                                 \n",
      " lstm (LSTM)                 (None, 100)               80400     \n",
      "                                                                 \n",
      " dense (Dense)               (None, 64)                6464      \n",
      "                                                                 \n",
      " dropout (Dropout)           (None, 64)                0         \n",
      "                                                                 \n",
      " dense_1 (Dense)             (None, 1)                 65        \n",
      "                                                                 \n",
      "=================================================================\n",
      "Total params: 2086929 (7.96 MB)\n",
      "Trainable params: 2086929 (7.96 MB)\n",
      "Non-trainable params: 0 (0.00 Byte)\n",
      "_________________________________________________________________\n"
     ]
    }
   ],
   "source": [
    "model = Sequential()\n",
    "# (1,) (because we need to guarantee that there is exactly one string\n",
    "# input per batch), and the dtype needs to be 'string'.\n",
    "model.add(tf.keras.Input(shape=(1,), dtype=tf.string))\n",
    "\n",
    "model.add(vectorize_layer)\n",
    "model.add(Embedding(vocab_size, 100))\n",
    "model.add(LSTM(100))\n",
    "model.add(Dense(64,activation='relu'))\n",
    "model.add(Dropout(0.5))\n",
    "model.add(Dense(1,activation='sigmoid'))\n",
    "model.summary()"
   ]
  },
  {
   "cell_type": "code",
   "execution_count": 28,
   "id": "af48a992-fdf1-4838-b3e3-d1b2977af507",
   "metadata": {},
   "outputs": [],
   "source": [
    "model.compile(optimizer=tf.keras.optimizers.legacy.Adam(learning_rate=0.001),loss='binary_crossentropy',metrics=['accuracy'])"
   ]
  },
  {
   "cell_type": "markdown",
   "id": "de143cec",
   "metadata": {},
   "source": [
    "## Model Training"
   ]
  },
  {
   "cell_type": "code",
   "execution_count": 29,
   "id": "ce764857-eb55-4b93-8378-8b8cd44ba290",
   "metadata": {},
   "outputs": [
    {
     "name": "stdout",
     "output_type": "stream",
     "text": [
      "Epoch 1/10\n",
      "1172/1172 [==============================] - 100s 85ms/step - loss: 0.6929 - accuracy: 0.5086 - val_loss: 0.6932 - val_accuracy: 0.4972\n",
      "Epoch 2/10\n",
      "1172/1172 [==============================] - 98s 83ms/step - loss: 0.6932 - accuracy: 0.5007 - val_loss: 0.6932 - val_accuracy: 0.4972\n",
      "Epoch 3/10\n",
      "1172/1172 [==============================] - 97s 83ms/step - loss: 0.6933 - accuracy: 0.4970 - val_loss: 0.6931 - val_accuracy: 0.5028\n",
      "Epoch 4/10\n",
      "1172/1172 [==============================] - 97s 83ms/step - loss: 0.6842 - accuracy: 0.5271 - val_loss: 0.6768 - val_accuracy: 0.5487\n",
      "Epoch 5/10\n",
      "1172/1172 [==============================] - 97s 83ms/step - loss: 0.6160 - accuracy: 0.6663 - val_loss: 0.5669 - val_accuracy: 0.7344\n",
      "Epoch 6/10\n",
      "1172/1172 [==============================] - 97s 83ms/step - loss: 0.4852 - accuracy: 0.7968 - val_loss: 0.4838 - val_accuracy: 0.7846\n",
      "Epoch 7/10\n",
      "1172/1172 [==============================] - 97s 83ms/step - loss: 0.4368 - accuracy: 0.8093 - val_loss: 0.3981 - val_accuracy: 0.8325\n",
      "Epoch 8/10\n",
      "1172/1172 [==============================] - 97s 83ms/step - loss: 0.3077 - accuracy: 0.8834 - val_loss: 0.3489 - val_accuracy: 0.8704\n",
      "Epoch 9/10\n",
      "1172/1172 [==============================] - 97s 83ms/step - loss: 0.2274 - accuracy: 0.9206 - val_loss: 0.3268 - val_accuracy: 0.8760\n",
      "Epoch 10/10\n",
      "1172/1172 [==============================] - 97s 83ms/step - loss: 0.1612 - accuracy: 0.9488 - val_loss: 0.3672 - val_accuracy: 0.8780\n"
     ]
    }
   ],
   "source": [
    "from tensorflow.keras.callbacks import EarlyStopping\n",
    "\n",
    "early_stop = EarlyStopping(\n",
    "    monitor='val_loss',\n",
    "    patience=2,\n",
    "    restore_best_weights=True\n",
    ")\n",
    "\n",
    "history = model.fit(X_train,Y_train,validation_data=(X_test,Y_test),batch_size=32,epochs=10,\n",
    "                    callbacks = [early_stop])"
   ]
  },
  {
   "cell_type": "code",
   "execution_count": null,
   "id": "3d55dd79-ad78-4014-a67a-066dddcc8235",
   "metadata": {},
   "outputs": [
    {
     "name": "stdout",
     "output_type": "stream",
     "text": [
      "INFO:tensorflow:Assets written to: ./Sentiment_Classifier_1/assets\n"
     ]
    },
    {
     "name": "stderr",
     "output_type": "stream",
     "text": [
      "INFO:tensorflow:Assets written to: ./Sentiment_Classifier_1/assets\n"
     ]
    }
   ],
   "source": [
    "##Saving Model\n",
    "model.save(\"./Sentiment_Classifier_v1\")"
   ]
  },
  {
   "cell_type": "markdown",
   "id": "9a8fbf9f",
   "metadata": {},
   "source": [
    "### Accuracy Visualization"
   ]
  },
  {
   "cell_type": "code",
   "execution_count": 31,
   "id": "e8b062fc-1c62-4b4f-934d-88b1a0e4dd3a",
   "metadata": {},
   "outputs": [
    {
     "data": {
      "image/png": "[encoded data removed]",
      "text/plain": [
       "<Figure size 640x480 with 1 Axes>"
      ]
     },
     "metadata": {},
     "output_type": "display_data"
    }
   ],
   "source": [
    "import matplotlib.pyplot as plt\n",
    "plt.plot(history.history['accuracy'],label='Training Acc')\n",
    "plt.plot(history.history['val_accuracy'],label='Test Acc')\n",
    "plt.legend()\n",
    "plt.show()"
   ]
  },
  {
   "cell_type": "markdown",
   "id": "ce790ed7",
   "metadata": {},
   "source": [
    "### Testing Model on random text"
   ]
  },
  {
   "cell_type": "code",
   "execution_count": 32,
   "id": "59a473ed-d74a-4fcc-991e-3c3d664f062b",
   "metadata": {},
   "outputs": [
    {
     "name": "stdout",
     "output_type": "stream",
     "text": [
      "1/1 [==============================] - 0s 348ms/step\n",
      "Positive Sentiment \n",
      "Score: 0.84139293\n"
     ]
    }
   ],
   "source": [
    "Test_text = 'The movie was cool. The animation and the graphics were out of this world. I would recommend this movie.'\n",
    "prediction = model.predict(np.array([Test_text]))\n",
    "if(prediction[0]>0.5):\n",
    "    print(\"Positive Sentiment\", \"\\nScore:\",prediction[0][0])\n",
    "else:\n",
    "    print(\"Negative Sentiment\",\"\\nScore:\",prediction[0][0])"
   ]
  },
  {
   "cell_type": "code",
   "execution_count": 33,
   "id": "d77aea87",
   "metadata": {},
   "outputs": [
    {
     "name": "stdout",
     "output_type": "stream",
     "text": [
      "1/1 [==============================] - 0s 36ms/step\n",
      "Negative Sentiment \n",
      "Score: 0.015400934\n"
     ]
    }
   ],
   "source": [
    "Test_text = 'The movie was good in first-half, but second half is worst, so i hate it'\n",
    "prediction = model.predict(np.array([Test_text]))\n",
    "if(prediction[0]>0.5):\n",
    "    print(\"Positive Sentiment\", \"\\nScore:\",prediction[0][0])\n",
    "else:\n",
    "    print(\"Negative Sentiment\",\"\\nScore:\",prediction[0][0])"
   ]
  },
  {
   "cell_type": "markdown",
   "id": "461a7dee",
   "metadata": {},
   "source": [
    "## Model Evaluation\n",
    "- Precision\n",
    "- Recall\n",
    "- F1-score\n",
    "- Confusion Matrix"
   ]
  },
  {
   "cell_type": "code",
   "execution_count": 34,
   "id": "2ebba2b1",
   "metadata": {},
   "outputs": [
    {
     "data": {
      "text/plain": [
       "pandas.core.series.Series"
      ]
     },
     "execution_count": 34,
     "metadata": {},
     "output_type": "execute_result"
    }
   ],
   "source": [
    "type(X_test)"
   ]
  },
  {
   "cell_type": "code",
   "execution_count": 35,
   "id": "1904d581",
   "metadata": {},
   "outputs": [
    {
     "name": "stdout",
     "output_type": "stream",
     "text": [
      "391/391 [==============================] - 7s 17ms/step\n"
     ]
    },
    {
     "data": {
      "text/plain": [
       "array([[0],\n",
       "       [0],\n",
       "       [0],\n",
       "       ...,\n",
       "       [1],\n",
       "       [0],\n",
       "       [0]])"
      ]
     },
     "execution_count": 35,
     "metadata": {},
     "output_type": "execute_result"
    }
   ],
   "source": [
    "y_pred = model.predict(X_test.to_list())\n",
    "y_pred_binary = np.where(y_pred > 0.5, 1, 0)\n",
    "y_pred_binary"
   ]
  },
  {
   "cell_type": "code",
   "execution_count": 36,
   "id": "e3c2d52a",
   "metadata": {},
   "outputs": [
    {
     "data": {
      "text/plain": [
       "(12500, 1)"
      ]
     },
     "execution_count": 36,
     "metadata": {},
     "output_type": "execute_result"
    }
   ],
   "source": [
    "y_pred_binary.shape"
   ]
  },
  {
   "cell_type": "code",
   "execution_count": 37,
   "id": "ac699a7d",
   "metadata": {},
   "outputs": [
    {
     "data": {
      "text/plain": [
       "(12500, 1)"
      ]
     },
     "execution_count": 37,
     "metadata": {},
     "output_type": "execute_result"
    }
   ],
   "source": [
    "y_true = np.array([Y_test.to_list()]).T\n",
    "y_true.shape"
   ]
  },
  {
   "cell_type": "code",
   "execution_count": 38,
   "id": "e05eae66",
   "metadata": {},
   "outputs": [
    {
     "data": {
      "text/plain": [
       "<sklearn.metrics._plot.confusion_matrix.ConfusionMatrixDisplay at 0x7da715133b80>"
      ]
     },
     "execution_count": 38,
     "metadata": {},
     "output_type": "execute_result"
    },
    {
     "data": {
      "image/png": "[encoded data removed]",
      "text/plain": [
       "<Figure size 640x480 with 2 Axes>"
      ]
     },
     "metadata": {},
     "output_type": "display_data"
    }
   ],
   "source": [
    "from sklearn.metrics import confusion_matrix, classification_report, ConfusionMatrixDisplay\n",
    "disp = ConfusionMatrixDisplay(confusion_matrix(y_true,y_pred_binary))\n",
    "disp.plot()"
   ]
  },
  {
   "cell_type": "code",
   "execution_count": 39,
   "id": "d8188524",
   "metadata": {},
   "outputs": [
    {
     "name": "stdout",
     "output_type": "stream",
     "text": [
      "              precision    recall  f1-score   support\n",
      "\n",
      "           0       0.87      0.89      0.88      6285\n",
      "           1       0.88      0.87      0.88      6215\n",
      "\n",
      "    accuracy                           0.88     12500\n",
      "   macro avg       0.88      0.88      0.88     12500\n",
      "weighted avg       0.88      0.88      0.88     12500\n",
      "\n"
     ]
    }
   ],
   "source": [
    "print(classification_report(y_true, y_pred_binary))"
   ]
  },
  {
   "cell_type": "code",
   "execution_count": null,
   "id": "2a57036f",
   "metadata": {},
   "outputs": [],
   "source": []
  }
 ],
 "metadata": {
  "kernelspec": {
   "display_name": "tensorflow",
   "language": "python",
   "name": "python3"
  },
  "language_info": {
   "codemirror_mode": {
    "name": "ipython",
    "version": 3
   },
   "file_extension": ".py",
   "mimetype": "text/x-python",
   "name": "python",
   "nbconvert_exporter": "python",
   "pygments_lexer": "ipython3",
   "version": "3.10.12"
  }
 },
 "nbformat": 4,
 "nbformat_minor": 5
}
